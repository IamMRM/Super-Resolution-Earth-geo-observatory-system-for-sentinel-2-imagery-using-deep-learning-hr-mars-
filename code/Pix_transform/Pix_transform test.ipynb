{
 "cells": [
  {
   "cell_type": "code",
   "execution_count": null,
   "metadata": {
    "scrolled": true
   },
   "outputs": [],
   "source": [
    "import keras\n",
    "from sklearn.model_selection import train_test_split\n",
    "# ^^^ pyforest auto-imports - don't write above this line\n",
    "import os\n",
    "os.environ[\"CUDA_DEVICE_ORDER\"] = \"PCI_BUS_ID\"\n",
    "GPU_ID= '0'\n",
    "os.environ[\"CUDA_VISIBLE_DEVICES\"] =GPU_ID\n",
    "os.environ['TF_CPP_MIN_LOG_LEVEL']='3'"
   ]
  },
  {
   "cell_type": "code",
   "execution_count": null,
   "metadata": {
    "scrolled": true
   },
   "outputs": [],
   "source": [
    "#import keras\n",
    "from keras import backend as K\n",
    "import numpy as np\n",
    "import gdal"
   ]
  },
  {
   "cell_type": "code",
   "execution_count": null,
   "metadata": {},
   "outputs": [],
   "source": [
    "validation_states = ['ROIs13_high_roshan_s2']\n",
    "data_dir = \"SEN12MS/processed\""
   ]
  },
  {
   "cell_type": "code",
   "execution_count": null,
   "metadata": {},
   "outputs": [],
   "source": [
    "validation_patches=[]\n",
    "for state in validation_states:\n",
    "    fn= os.path.join(data_dir,'%s_val_patches/' %state)\n",
    "    #print(fn)\n",
    "    with os.scandir(fn) as entries:\n",
    "        for entry in entries:\n",
    "            #print(entry.name)\n",
    "            with os.scandir(fn+entry.name) as folders:\n",
    "                for folder in folders:\n",
    "                    #print(folder.name)\n",
    "                    with os.scandir(fn+entry.name+'/'+folder.name) as files:\n",
    "                        for file in files:\n",
    "                            #print(file.name)\n",
    "                            validation_patches.append((os.path.join(fn+entry.name+'/'+folder.name+'/',file.name),state))"
   ]
  },
  {
   "cell_type": "code",
   "execution_count": null,
   "metadata": {},
   "outputs": [],
   "source": [
    "train_patches=[]\n",
    "train_states = ['dfc_1']\n",
    "for state in train_states:\n",
    "    fn= os.path.join(data_dir,'%s/' %state)\n",
    "    #print(fn)\n",
    "    with os.scandir(fn) as entries:\n",
    "        for entry in entries:\n",
    "            #print(entry.name)\n",
    "            with os.scandir(fn+entry.name) as folders:\n",
    "                for folder in folders:\n",
    "                    #print(folder.name)\n",
    "                    with os.scandir(fn+entry.name+'/'+folder.name) as files:\n",
    "                        for file in files:\n",
    "                            #print(file.name)\n",
    "                            train_patches.append((os.path.join(fn+entry.name+'/'+folder.name+'/',file.name),state))"
   ]
  },
  {
   "cell_type": "code",
   "execution_count": null,
   "metadata": {},
   "outputs": [],
   "source": [
    "def iou_coef(y_true, y_pred, smooth=1):\n",
    "    intersection = K.sum(K.abs(y_true * y_pred), axis=[1,2,3])\n",
    "    union = K.sum(y_true,[1,2,3])+K.sum(y_pred,[1,2,3])-intersection\n",
    "    iou = K.mean((intersection + smooth) / (union + smooth), axis=0)\n",
    "    return iou\n",
    "def dice_coef(y_true, y_pred, smooth=1):\n",
    "    intersection = K.sum(y_true * y_pred, axis=[1,2,3])\n",
    "    union = K.sum(y_true, axis=[1,2,3]) + K.sum(y_pred, axis=[1,2,3])\n",
    "    dice = K.mean((2. * intersection + smooth)/(union + smooth), axis=0)\n",
    "    return dice"
   ]
  },
  {
   "cell_type": "code",
   "execution_count": null,
   "metadata": {},
   "outputs": [],
   "source": [
    "print(validation_patches[1][0])"
   ]
  },
  {
   "cell_type": "code",
   "execution_count": null,
   "metadata": {
    "scrolled": true
   },
   "outputs": [],
   "source": [
    "#one by one checking\n",
    "iou=0\n",
    "f1=0\n",
    "for i in range(len(train_patches)):\n",
    "    original = np.load(validation_patches[i][0])\n",
    "    tar_img= np.expand_dims(original[:,:,5],axis=0)\n",
    "    tar_img=keras.utils.to_categorical(tar_img, 11)\n",
    "    \n",
    "    ds = gdal.Open(train_patches[i][0])\n",
    "    if ds != None:\n",
    "        outp= ds.ReadAsArray()\n",
    "        outp[outp>= 10.] = 10\n",
    "        outp[outp<= 1.] = 1\n",
    "        #print(outp.shape)\n",
    "        outp=np.expand_dims(keras.utils.to_categorical(outp, 11),axis=0)\n",
    "        iou = iou + K.get_value(iou_coef(tar_img,outp))\n",
    "        f1 = f1 + K.get_value(dice_coef(tar_img,outp))\n",
    "        ds =None\n",
    "        #ds.close()\n",
    "        print(\"Done with \",str(i))\n",
    "    else:\n",
    "        print(\"error with gdal opening file.\")\n",
    "\n",
    "a = f1/len(validation_patches)\n",
    "print(\"The f1 score is \",a)\n",
    "b = iou/len(validation_patches)\n",
    "print(\"The iou score is \",b)"
   ]
  }
 ],
 "metadata": {
  "kernelspec": {
   "display_name": "Python 3",
   "language": "python",
   "name": "python3"
  },
  "language_info": {
   "codemirror_mode": {
    "name": "ipython",
    "version": 3
   },
   "file_extension": ".py",
   "mimetype": "text/x-python",
   "name": "python",
   "nbconvert_exporter": "python",
   "pygments_lexer": "ipython3",
   "version": "3.6.8"
  }
 },
 "nbformat": 4,
 "nbformat_minor": 4
}
