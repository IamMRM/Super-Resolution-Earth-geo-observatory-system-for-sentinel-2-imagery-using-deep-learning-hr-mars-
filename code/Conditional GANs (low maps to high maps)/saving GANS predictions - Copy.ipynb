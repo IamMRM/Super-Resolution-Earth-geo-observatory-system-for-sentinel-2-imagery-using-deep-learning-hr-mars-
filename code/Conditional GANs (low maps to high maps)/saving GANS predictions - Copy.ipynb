{
 "cells": [
  {
   "cell_type": "code",
   "execution_count": null,
   "metadata": {},
   "outputs": [],
   "source": [
    "import os\n",
    "os.environ[\"CUDA_DEVICE_ORDER\"] = \"PCI_BUS_ID\"\n",
    "GPU_ID= '0'\n",
    "os.environ[\"CUDA_VISIBLE_DEVICES\"] =GPU_ID\n",
    "os.environ['TF_CPP_MIN_LOG_LEVEL']='3'"
   ]
  },
  {
   "cell_type": "code",
   "execution_count": null,
   "metadata": {
    "scrolled": true
   },
   "outputs": [],
   "source": [
    "import keras\n",
    "# ^^^ pyforest auto-imports - don't write above this line\n",
    "# example of loading a pix2pix model and using it for image to image translation\n",
    "from keras.models import load_model\n",
    "from numpy import load\n",
    "from numpy import vstack\n",
    "from matplotlib import pyplot\n",
    "from numpy.random import randint\n",
    "import numpy as np\n",
    "from PIL import Image"
   ]
  },
  {
   "cell_type": "code",
   "execution_count": null,
   "metadata": {},
   "outputs": [],
   "source": [
    "data_dir = \"SEN12MS/processed\"\n",
    "model_fn = \"model_088000.h5\"\n",
    "testing_states=['ROIs1158_spring_s2_test_patches']"
   ]
  },
  {
   "cell_type": "code",
   "execution_count": null,
   "metadata": {},
   "outputs": [],
   "source": [
    "test_patches=[]\n",
    "for state in testing_states:\n",
    "    fn= os.path.join(data_dir,'%s/' %state)\n",
    "    with os.scandir(fn) as entries:\n",
    "        for entry in entries:\n",
    "            #print(entry.name)\n",
    "            with os.scandir(fn+entry.name) as folders:\n",
    "                for folder in folders:\n",
    "                    #print(folder.name)\n",
    "                    with os.scandir(fn+entry.name+'/'+folder.name) as files:\n",
    "                        for file in files:\n",
    "                            #print(file.name)\n",
    "                            test_patches.append((os.path.join(fn+entry.name+'/'+folder.name+'/',file.name),state))"
   ]
  },
  {
   "cell_type": "code",
   "execution_count": null,
   "metadata": {},
   "outputs": [],
   "source": [
    "#Visualizing the image\n",
    "def normalize(array):\n",
    "    array_min, array_max = array.min(), array.max()\n",
    "    return ((array - array_min) / (array_max - array_min))"
   ]
  },
  {
   "cell_type": "code",
   "execution_count": null,
   "metadata": {},
   "outputs": [],
   "source": [
    "# load and prepare training images\n",
    "def load_real_samples(training_patches):\n",
    "    # load compressed arrays\n",
    "    X1= np.zeros((1,256,256,8))\n",
    "    X2= np.zeros((1,256,256,8))\n",
    "    #print(training_patches[0])\n",
    "    filename= training_patches[0]\n",
    "    #print(filename)\n",
    "    data = np.load(filename)\n",
    "    # unpack arrays\n",
    "    \"\"\"redn = normalize(data[:, :, 0])\n",
    "    greenn = normalize(data[:, :, 1])\n",
    "    bluen = normalize(data[:, :, 2])\n",
    "    infraredn = normalize(data[:, :, 3])\n",
    "    X1[0] = np.dstack((redn, greenn, bluen,infraredn))\"\"\"\n",
    "    #X2[0] = np.copy(np.expand_dims(data[:, :, 5],axis=2))\n",
    "    #################################for low res########################################33\n",
    "    \"\"\"y_train_nlcd = np.copy(data[:, :, 4])\n",
    "    y_train_nlcd[y_train_nlcd == 1] = 0# forest\n",
    "    y_train_nlcd[y_train_nlcd == 2] = 0\n",
    "    y_train_nlcd[y_train_nlcd == 3] = 0\n",
    "    y_train_nlcd[y_train_nlcd == 4] = 0\n",
    "    y_train_nlcd[y_train_nlcd == 5] = 0\n",
    "    y_train_nlcd[y_train_nlcd == 6] = 1  # shrublands\n",
    "    y_train_nlcd[y_train_nlcd == 7] = 1\n",
    "    y_train_nlcd[y_train_nlcd == 8] = np.random.choice(np.arange(0, 8), p=[0.15, 0.05, 0.15, 0, 0, 0.15, 0.5, 0])  # savannas\n",
    "    y_train_nlcd[y_train_nlcd == 9] = np.random.choice(np.arange(0, 8), p=[0.15, 0.05, 0.15, 0, 0, 0.15, 0.5, 0])\n",
    "    y_train_nlcd[y_train_nlcd == 10] = 2  # grassland\n",
    "    y_train_nlcd[y_train_nlcd == 11] = 3  # wetlands\n",
    "    y_train_nlcd[y_train_nlcd == 12] = 4  # croplands\n",
    "    y_train_nlcd[y_train_nlcd == 14] = 4  # cropland\n",
    "    y_train_nlcd[y_train_nlcd == 13] = 5  # builtup\n",
    "    y_train_nlcd[y_train_nlcd == 15] = 7  # ice\n",
    "    y_train_nlcd[y_train_nlcd == 17] = 7  # water\n",
    "    y_train_nlcd[y_train_nlcd == 16] = 6  # barren\n",
    "    #y_train_nlcd = keras.utils.to_categorical(y_train_nlcd, 8)\n",
    "    y_train_nlcd = keras.utils.to_categorical(y_train_nlcd, 8)\"\"\"\n",
    "    ####################only for high res####################3\n",
    "    y_train = np.copy(data[:, :, 5])\n",
    "    y_train[y_train == 1] = 0\n",
    "    y_train[y_train == 2] = 1\n",
    "    y_train[y_train == 4] = 2\n",
    "    y_train[y_train == 5] = 3\n",
    "    y_train[y_train == 6] = 4\n",
    "    y_train[y_train == 7] = 5\n",
    "    y_train[y_train == 9] = 6\n",
    "    y_train[y_train == 10] = 7\n",
    "    y_train = keras.utils.to_categorical(y_train, 8)\n",
    "    ################till here#######################33\n",
    "    X1[0] =y_train_nlcd\n",
    "    X2[0]=None\n",
    "    #print(y_train_nlcd.shape)\n",
    "    return [X1, X2]"
   ]
  },
  {
   "cell_type": "code",
   "execution_count": null,
   "metadata": {},
   "outputs": [],
   "source": [
    "model = load_model(model_fn)"
   ]
  },
  {
   "cell_type": "code",
   "execution_count": null,
   "metadata": {},
   "outputs": [],
   "source": [
    "lab2rgb = {0:[0./255, 128./255, 0./255],        #dark-green         ->          Forest\n",
    "           1:[205./255, 133./255, 63./255],     #peruvian-brown     ->          Dense-Shrublands\n",
    "           2:[224./255, 216./255, 202./255],    #savana-oaks        ->          Woody-Savanas\n",
    "           3:[102./255, 102./255, 25./255],    #dark-olive         ->          Grasslands\n",
    "           4:[210./255, 209./255, 205./255],   #concrete           ->          Urban\n",
    "           #5:[229./255, 229./255, 178./255],   #pale-olive         ->          Vegetation\n",
    "           5:[255./255, 255./255, 255./255],   #white              ->          Snow-and-ice\n",
    "           6:[131./255, 117./255, 96./255],    #barren-paint       ->          Barren\n",
    "           7:[135./255, 206./255, 250./255],   #light-blue         ->          Water-bodies\n",
    "          }\n",
    "rgb = np.ones((256,256,3))"
   ]
  },
  {
   "cell_type": "code",
   "execution_count": null,
   "metadata": {},
   "outputs": [],
   "source": [
    "# plot source, generated and target images\n",
    "def plot_images(src_img, gen_img, tar_img):\n",
    "    #images = vstack((src_img, gen_img, tar_img))\n",
    "    # scale from [-1,1] to [0,1]\n",
    "    #images = (images + 1) / 2.0\n",
    "    #titles = ['Source', 'Generated', 'Expected']\n",
    "    # plot images row by row\n",
    "    \n",
    "    n_samples =1\n",
    "    for i in range(n_samples):\n",
    "        pyplot.subplot(3, n_samples, 1 + i)\n",
    "        pyplot.axis('off')\n",
    "        pyplot.imshow(src_img[i])\n",
    "    # plot generated target image\n",
    "    for i in range(n_samples):\n",
    "        label = np.argmax(gen_img[i], axis=-1)\n",
    "        for p in range(256):\n",
    "            for q in range(256):\n",
    "                rgb[p,q,:] = np.expand_dims(np.array(lab2rgb[label[p,q]]),axis=0)\n",
    "        pyplot.subplot(3, n_samples, 1 + n_samples + i)\n",
    "        pyplot.axis('off')\n",
    "        pyplot.imshow(rgb)\n",
    "    # plot real target image\n",
    "    for i in range(n_samples):\n",
    "        label = np.argmax(tar_img[i], axis=-1)\n",
    "        for p in range(256):\n",
    "            for q in range(256):\n",
    "                rgb[p,q,:] = np.expand_dims(np.array(lab2rgb[label[p,q]]),axis=0)\n",
    "        pyplot.subplot(3, n_samples, 1 + n_samples*2 + i)\n",
    "        pyplot.axis('off')\n",
    "        pyplot.imshow(rgb)"
   ]
  },
  {
   "cell_type": "code",
   "execution_count": null,
   "metadata": {},
   "outputs": [],
   "source": [
    "for i,namee in enumerate(test_patches):\n",
    "    [src_image, ___] = load_real_samples(test_patches[i])\n",
    "    #print(src_image.shape)\n",
    "    gen_image = model.predict(src_image)\n",
    "    #plot_images(src_image, gen_image, tar_image)\n",
    "    outpp=np.argmax(gen_image[0], axis=-1)\n",
    "    #print(outpp.shape)\n",
    "    outpp[outpp == 7] = 10\n",
    "    outpp[outpp == 6] = 9\n",
    "    outpp[outpp == 5] = 7\n",
    "    outpp[outpp == 4] = 6\n",
    "    outpp[outpp == 3] = 5\n",
    "    outpp[outpp== 2] = 4\n",
    "    outpp[outpp == 1] = 2\n",
    "    outpp[outpp== 0] = 1\n",
    "    #plot_images(src_image, gen_image, tar_image)\n",
    "    #print(namee[0].replace(\"ROIs1158_spring_s2_test_patches/ROIs1158_spring/s2_2\",\"dfc_1\").replace(\"s2\",\"dfc\").replace(\".npy\",\".tif\"))\n",
    "    st = namee[0].replace(\"ROIs1158_spring_s2_test_patches/ROIs1158_spring/s2_2\",\"dfc_1\").replace(\"s2\",\"dfc\").replace(\".npy\",\".tif\")\n",
    "    dataa = outpp.astype(np.uint8)\n",
    "    im = Image.fromarray(dataa)\n",
    "    im.save(st)"
   ]
  },
  {
   "cell_type": "code",
   "execution_count": null,
   "metadata": {},
   "outputs": [],
   "source": []
  }
 ],
 "metadata": {
  "kernelspec": {
   "display_name": "Python 3",
   "language": "python",
   "name": "python3"
  },
  "language_info": {
   "codemirror_mode": {
    "name": "ipython",
    "version": 3
   },
   "file_extension": ".py",
   "mimetype": "text/x-python",
   "name": "python",
   "nbconvert_exporter": "python",
   "pygments_lexer": "ipython3",
   "version": "3.6.8"
  }
 },
 "nbformat": 4,
 "nbformat_minor": 4
}
