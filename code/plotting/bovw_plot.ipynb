{
 "cells": [
  {
   "cell_type": "code",
   "execution_count": 1,
   "metadata": {},
   "outputs": [],
   "source": [
    "import os\n",
    "os.environ[\"CUDA_DEVICE_ORDER\"] = \"PCI_BUS_ID\"\n",
    "GPU_ID= '0'\n",
    "os.environ[\"CUDA_VISIBLE_DEVICES\"] =GPU_ID\n",
    "os.environ['TF_CPP_MIN_LOG_LEVEL']='3'"
   ]
  },
  {
   "cell_type": "code",
   "execution_count": 21,
   "metadata": {},
   "outputs": [],
   "source": [
    "import numpy as np\n",
    "import pandas as pd\n",
    "from matplotlib import pyplot as plt\n",
    "from sklearn.datasets.samples_generator import make_blobs\n",
    "from sklearn.cluster import MiniBatchKMeans\n",
    "import os\n",
    "from sklearn.svm import SVC\n",
    "import pickle\n",
    "import matplotlib\n",
    "from matplotlib import pyplot\n",
    "from PIL import Image"
   ]
  },
  {
   "cell_type": "code",
   "execution_count": 5,
   "metadata": {},
   "outputs": [],
   "source": [
    "def makeVocabulary(folder_name, batch_size = 10):\n",
    "    all_pixels = []\n",
    "    total_images = 0\n",
    "    kmeans = MiniBatchKMeans(n_clusters = 50, random_state = 0, max_iter=300, n_init=10)\n",
    "    for season in os.listdir(folder_name+\"/\"):\n",
    "        for filename in os.listdir(folder_name+\"/\"+season):\n",
    "            dat = np.load(folder_name+\"/\"+season+\"/\"+filename)\n",
    "            total_images += 1\n",
    "            for x_index in range(0, len(dat)):\n",
    "                for y_index in range(0, len(dat[x_index])):\n",
    "                    all_pixels.append(np.divide(dat[x_index][y_index][0:3],10000))\n",
    "            if(total_images % batch_size == 0):\n",
    "                kmeans = kmeans.partial_fit(all_pixels)\n",
    "                all_pixels = []\n",
    "                print(\"Done with batch\")\n",
    "                \n",
    "    if(total_images % batch_size != 0):\n",
    "        kmeans = kmeans.partial_fit(all_pixels)\n",
    "        print(\"**Done with all batches**\")\n",
    "    \n",
    "    return kmeans\n",
    "\n",
    "\n",
    "\n",
    "def predict(vocabulary, file_name, model, nclusters = 20):\n",
    "    NUM_CLASSES=100\n",
    "    dat = np.load(file_name)\n",
    "    image_pixels = []\n",
    "    for x_index in range(0, len(dat)):\n",
    "        for y_index in range(0, len(dat[x_index])):\n",
    "            image_pixels.append(np.divide(dat[x_index][y_index][0:3],10000))\n",
    "    \n",
    "    kmeans = MiniBatchKMeans(n_clusters=nclusters, init='k-means++', max_iter=300, n_init=10, random_state=0)\n",
    "    cluster_predictions = kmeans.fit_predict(image_pixels)\n",
    "    cluster_histograms = []\n",
    "    \n",
    "    for i in range(0, nclusters):\n",
    "        histogram = [0]*vocabulary.n_clusters\n",
    "        cluster_histograms.append(histogram)\n",
    "    pixel_no = 0\n",
    "    for x_index in range(0, len(dat)):\n",
    "        for y_index in range(0, len(dat[x_index])):\n",
    "            cluster_point = vocabulary.predict(np.array([np.divide(dat[x_index][y_index][0:3],10000)]))[0]\n",
    "            cluster_histograms[cluster_predictions[pixel_no]][cluster_point] += 1\n",
    "            pixel_no += 1\n",
    "    \n",
    "    landcover = np.zeros((256, 256), dtype=float)\n",
    "    histo_classes=[]\n",
    "    \n",
    "    for i in range(0, nclusters):\n",
    "        input_hist = []\n",
    "        normalized_histogram = np.divide(cluster_histograms[i], sum(cluster_histograms[i]))\n",
    "        input_hist.append(normalized_histogram)\n",
    "        input_hist=np.array(input_hist)\n",
    "        predicted_class = model.predict(input_hist)\n",
    "        histo_classes.append(predicted_class)\n",
    "    \n",
    "    pixel_no = 0\n",
    "    for x_index in range(0, len(landcover)):\n",
    "        for y_index in range(0, len(landcover[x_index])):\n",
    "            landcover[x_index][y_index] = histo_classes[cluster_predictions[pixel_no]]\n",
    "            pixel_no += 1\n",
    "    \n",
    "    return landcover\n",
    "\n",
    "def predict_highlc(filename):   \n",
    "    with open('model_vocabulary.pkl', 'rb') as f:\n",
    "        vocab = pickle.load(f)\n",
    "        \n",
    "    with open('HISTO-CLASS_model.pkl', 'rb') as f:\n",
    "        clf = pickle.load(f)\n",
    "    \n",
    "    lc = predict(vocab,filename,clf)\n",
    "    return lc"
   ]
  },
  {
   "cell_type": "code",
   "execution_count": 8,
   "metadata": {},
   "outputs": [],
   "source": [
    "filename=\"..\\SEN12MS\\processed\\ROIs13_high_roshan_s2_val_patches\\ROIs13_high_roshan\\s2_1\\ROIs0000_validation_s2_0_p0.npy\"\n",
    "landcover = predict_highlc(filename)"
   ]
  },
  {
   "cell_type": "code",
   "execution_count": 9,
   "metadata": {},
   "outputs": [
    {
     "name": "stdout",
     "output_type": "stream",
     "text": [
      "<class 'numpy.ndarray'>\n"
     ]
    }
   ],
   "source": [
    "print(type(landcover))"
   ]
  },
  {
   "cell_type": "code",
   "execution_count": 10,
   "metadata": {},
   "outputs": [
    {
     "name": "stdout",
     "output_type": "stream",
     "text": [
      "(256, 256)\n"
     ]
    }
   ],
   "source": [
    "\"\"\"landcover[landcover == 1] = 0# forest\n",
    "landcover[landcover == 2] = 0\n",
    "landcover[landcover == 3] = 0\n",
    "landcover[landcover == 4] = 0\n",
    "landcover[landcover == 5] = 0\n",
    "landcover[landcover == 6] = 1  # shrublands\n",
    "landcover[landcover == 7] = 1\n",
    "landcover[landcover == 8] = np.random.choice(np.arange(0, 8), p=[0.15, 0.05, 0.15, 0, 0, 0.15, 0.5, 0])  # savannas\n",
    "landcover[landcover == 9] = np.random.choice(np.arange(0, 8), p=[0.15, 0.05, 0.15, 0, 0, 0.15, 0.5, 0])\n",
    "landcover[landcover == 10] = 3  # grassland\n",
    "landcover[landcover == 11] = 4  # wetlands\n",
    "landcover[landcover == 12] = 5  # croplands\n",
    "landcover[landcover == 13] = 6  # builtup\n",
    "landcover[landcover == 14] = 5  # cropland\n",
    "landcover[landcover == 15] = 7  # ice\n",
    "landcover[landcover == 16] = 6  # barren\n",
    "landcover[landcover == 17] = 7  # water\"\"\"\n",
    "landcover[landcover == 1] = 0\n",
    "landcover[landcover == 2] = 1\n",
    "landcover[landcover == 4] = 2\n",
    "landcover[landcover == 5] = 3\n",
    "landcover[landcover == 6] = 4\n",
    "landcover[landcover == 7] = 5\n",
    "landcover[landcover == 9] = 6\n",
    "landcover[landcover == 10] = 7"
   ]
  },
  {
   "cell_type": "code",
   "execution_count": 11,
   "metadata": {},
   "outputs": [],
   "source": [
    "lab2rgb = {0:[0./255, 128./255, 0./255],        #dark-green         ->          Forest\n",
    "           1:[205./255, 133./255, 63./255],     #peruvian-brown     ->          Dense-Shrublands\n",
    "           2:[224./255, 216./255, 202./255],    #savana-oaks        ->          Woody-Savanas\n",
    "           3:[102./255, 102./255, 25./255],    #dark-olive         ->          Grasslands\n",
    "           4:[210./255, 209./255, 205./255],   #concrete           ->          Urban\n",
    "           #5:[229./255, 229./255, 178./255],   #pale-olive         ->          Vegetation\n",
    "           5:[255./255, 255./255, 255./255],   #white              ->          Snow-and-ice\n",
    "           6:[131./255, 117./255, 96./255],    #barren-paint       ->          Barren\n",
    "           7:[135./255, 206./255, 250./255],   #light-blue         ->          Water-bodies\n",
    "          }\n",
    "rgb = np.ones((256,256,3))"
   ]
  },
  {
   "cell_type": "code",
   "execution_count": 12,
   "metadata": {},
   "outputs": [
    {
     "name": "stdout",
     "output_type": "stream",
     "text": [
      "(256, 256, 6)\n",
      "(256, 256)\n"
     ]
    }
   ],
   "source": [
    "actual = np.load(filename)\n",
    "y_train_hr= actual[:,:,5].copy()\n",
    "y_train_hr[y_train_hr == 1] = 0\n",
    "y_train_hr[y_train_hr == 2] = 1\n",
    "y_train_hr[y_train_hr == 4] = 2\n",
    "y_train_hr[y_train_hr == 5] = 3\n",
    "y_train_hr[y_train_hr == 6] = 4\n",
    "y_train_hr[y_train_hr == 7] = 5\n",
    "y_train_hr[y_train_hr == 9] = 6\n",
    "y_train_hr[y_train_hr == 10] = 7"
   ]
  },
  {
   "cell_type": "code",
   "execution_count": 13,
   "metadata": {},
   "outputs": [],
   "source": [
    "y_train_nlcd = actual[:,:,4].copy()\n",
    "y_train_nlcd[y_train_nlcd == 1] = 0# forest\n",
    "y_train_nlcd[y_train_nlcd == 2] = 0\n",
    "y_train_nlcd[y_train_nlcd == 3] = 0\n",
    "y_train_nlcd[y_train_nlcd == 4] = 0\n",
    "y_train_nlcd[y_train_nlcd == 5] = 0\n",
    "y_train_nlcd[y_train_nlcd == 6] = 1  # shrublands\n",
    "y_train_nlcd[y_train_nlcd == 7] = 1\n",
    "y_train_nlcd[y_train_nlcd == 8] = np.random.choice(np.arange(0, 8), p=[0.15, 0.05, 0.15, 0, 0, 0.15, 0.5, 0])  # savannas\n",
    "y_train_nlcd[y_train_nlcd == 9] = np.random.choice(np.arange(0, 8), p=[0.15, 0.05, 0.15, 0, 0, 0.15, 0.5, 0])\n",
    "y_train_nlcd[y_train_nlcd == 10] = 2  # grassland\n",
    "y_train_nlcd[y_train_nlcd == 11] = 3  # wetlands\n",
    "y_train_nlcd[y_train_nlcd == 12] = 4  # croplands\n",
    "y_train_nlcd[y_train_nlcd == 13] = 5  # builtup\n",
    "y_train_nlcd[y_train_nlcd == 14] = 4  # cropland\n",
    "y_train_nlcd[y_train_nlcd == 15] = 7  # ice\n",
    "y_train_nlcd[y_train_nlcd == 16] = 6  # barren\n",
    "y_train_nlcd[y_train_nlcd == 17] = 7  # water"
   ]
  },
  {
   "cell_type": "code",
   "execution_count": 14,
   "metadata": {},
   "outputs": [
    {
     "data": {
      "text/plain": [
       "<matplotlib.image.AxesImage at 0x26e1e029438>"
      ]
     },
     "execution_count": 14,
     "metadata": {},
     "output_type": "execute_result"
    },
    {
     "data": {
      "image/png": "[encoded data removed]",
      "text/plain": [
       "<Figure size 432x288 with 1 Axes>"
      ]
     },
     "metadata": {
      "needs_background": "light"
     },
     "output_type": "display_data"
    }
   ],
   "source": [
    "for i in range(256):\n",
    "    for j in range(256):\n",
    "        rgb[i,j,:] = np.expand_dims(np.array(lab2rgb[landcover[i,j]]),axis=0)\n",
    "plt.imshow(rgb)"
   ]
  },
  {
   "cell_type": "code",
   "execution_count": 15,
   "metadata": {},
   "outputs": [
    {
     "data": {
      "text/plain": [
       "<matplotlib.image.AxesImage at 0x26e1de5cd30>"
      ]
     },
     "execution_count": 15,
     "metadata": {},
     "output_type": "execute_result"
    },
    {
     "data": {
      "image/png": "[encoded data removed]",
      "text/plain": [
       "<Figure size 432x288 with 1 Axes>"
      ]
     },
     "metadata": {
      "needs_background": "light"
     },
     "output_type": "display_data"
    }
   ],
   "source": [
    "for i in range(256):\n",
    "    for j in range(256):\n",
    "        rgb[i,j,:] = np.expand_dims(np.array(lab2rgb[y_train_hr[i,j]]),axis=0)\n",
    "plt.imshow(rgb)"
   ]
  },
  {
   "cell_type": "code",
   "execution_count": 16,
   "metadata": {},
   "outputs": [
    {
     "data": {
      "text/plain": [
       "<matplotlib.image.AxesImage at 0x26e1dfafeb8>"
      ]
     },
     "execution_count": 16,
     "metadata": {},
     "output_type": "execute_result"
    },
    {
     "data": {
      "image/png": "[encoded data removed]",
      "text/plain": [
       "<Figure size 432x288 with 1 Axes>"
      ]
     },
     "metadata": {
      "needs_background": "light"
     },
     "output_type": "display_data"
    }
   ],
   "source": [
    "for i in range(256):\n",
    "    for j in range(256):\n",
    "        rgb[i,j,:] = np.expand_dims(np.array(lab2rgb[y_train_nlcd[i,j]]),axis=0)\n",
    "plt.imshow(rgb)"
   ]
  },
  {
   "cell_type": "code",
   "execution_count": 17,
   "metadata": {},
   "outputs": [],
   "source": [
    "def normalize(array):\n",
    "    array_min, array_max = array.min(), array.max()\n",
    "    return ((array - array_min) / (array_max - array_min))"
   ]
  },
  {
   "cell_type": "code",
   "execution_count": 27,
   "metadata": {},
   "outputs": [],
   "source": [
    "redn = normalize(actual[:, :, 0])\n",
    "greenn = normalize(actual[:, :, 1])\n",
    "bluen = normalize(actual[:, :, 2])\n",
    "X1 = np.dstack((redn, greenn, bluen))"
   ]
  },
  {
   "cell_type": "code",
   "execution_count": 30,
   "metadata": {},
   "outputs": [],
   "source": [
    "def plot_images(src_img, gen_img, tar_img):\n",
    "    #images = vstack((src_img, gen_img, tar_img))\n",
    "    # scale from [-1,1] to [0,1]\n",
    "    #images = (images + 1) / 2.0\n",
    "    #titles = ['Source', 'Generated', 'Expected']\n",
    "    # plot images row by row\n",
    "    \n",
    "    n_samples =1\n",
    "    for i in range(n_samples):\n",
    "        pyplot.subplot(3, n_samples, 1 + i)\n",
    "        pyplot.axis('off')\n",
    "        pyplot.imshow(src_img)\n",
    "    # plot generated target image\n",
    "    for i in range(n_samples):\n",
    "        for p in range(256):\n",
    "            for q in range(256):\n",
    "                rgb[p,q,:] = np.expand_dims(np.array(lab2rgb[gen_img[p,q]]),axis=0)\n",
    "        pyplot.subplot(3, n_samples, 1 + n_samples + i)\n",
    "        pyplot.axis('off')\n",
    "        pyplot.imshow(rgb)\n",
    "    # plot real target image\n",
    "    for i in range(n_samples):\n",
    "        for p in range(256):\n",
    "            for q in range(256):\n",
    "                rgb[p,q,:] = np.expand_dims(np.array(lab2rgb[tar_img[p,q]]),axis=0)\n",
    "        pyplot.subplot(3, n_samples, 1 + n_samples*2 + i)\n",
    "        pyplot.axis('off')\n",
    "        pyplot.imshow(rgb)"
   ]
  },
  {
   "cell_type": "code",
   "execution_count": 31,
   "metadata": {},
   "outputs": [
    {
     "data": {
      "image/png": "[encoded data removed]",
      "text/plain": [
       "<Figure size 432x288 with 3 Axes>"
      ]
     },
     "metadata": {
      "needs_background": "light"
     },
     "output_type": "display_data"
    }
   ],
   "source": [
    "plot_images(X1, landcover, y_train_hr)"
   ]
  },
  {
   "cell_type": "code",
   "execution_count": null,
   "metadata": {},
   "outputs": [],
   "source": []
  },
  {
   "cell_type": "code",
   "execution_count": null,
   "metadata": {},
   "outputs": [],
   "source": []
  },
  {
   "cell_type": "code",
   "execution_count": null,
   "metadata": {},
   "outputs": [],
   "source": []
  },
  {
   "cell_type": "code",
   "execution_count": null,
   "metadata": {},
   "outputs": [],
   "source": []
  }
 ],
 "metadata": {
  "kernelspec": {
   "display_name": "Python 3",
   "language": "python",
   "name": "python3"
  },
  "language_info": {
   "codemirror_mode": {
    "name": "ipython",
    "version": 3
   },
   "file_extension": ".py",
   "mimetype": "text/x-python",
   "name": "python",
   "nbconvert_exporter": "python",
   "pygments_lexer": "ipython3",
   "version": "3.6.8"
  }
 },
 "nbformat": 4,
 "nbformat_minor": 4
}
